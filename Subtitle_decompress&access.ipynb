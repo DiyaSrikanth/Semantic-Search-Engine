{
 "cells": [
  {
   "cell_type": "code",
   "execution_count": 1,
   "id": "da7316f8-52b1-4ba3-8c8b-71e399799c3c",
   "metadata": {},
   "outputs": [],
   "source": [
    "#Importing all the important packages \n",
    "\n",
    "#For accessing and fetching info from the subtitle database file. Provides an SQL interface.\n",
    "import sqlite3\n",
    "#For creation of dataframe and saving subtitle info as csv for future retrieval.\n",
    "import pandas as pd\n",
    "#For unzipping the zipped content.\n",
    "import zipfile\n",
    "#For working with bytes file.\n",
    "import io\n",
    "#For working with paths/directories.\n",
    "import os"
   ]
  },
  {
   "cell_type": "code",
   "execution_count": 3,
   "id": "cc0da555-78e4-4f40-b394-eeb6bf96ffbc",
   "metadata": {},
   "outputs": [],
   "source": [
    "#Path\n",
    "db_path = \"data-20240401T135418Z-001/data/eng_subtitles_database.db\""
   ]
  },
  {
   "cell_type": "code",
   "execution_count": 4,
   "id": "d208f68a-a4f3-4dbe-9c7d-3d400a480cd2",
   "metadata": {},
   "outputs": [],
   "source": [
    "#Making a connection with the subtitle database file using sqlite3\n",
    "con = sqlite3.connect(db_path)"
   ]
  },
  {
   "cell_type": "code",
   "execution_count": 5,
   "id": "b16d2c80-17da-44d1-a9d6-07711b4dac70",
   "metadata": {},
   "outputs": [],
   "source": [
    "#converts byte strings returned by SQLite into python string object\n",
    "con.text_factory=str"
   ]
  },
  {
   "cell_type": "code",
   "execution_count": 96,
   "id": "b4aaf59f-d7ce-4eca-bc90-de28c46ec997",
   "metadata": {},
   "outputs": [],
   "source": [
    "#Retrieving subtitle information \n",
    "subtitle_info = con.execute('SELECT * from zipfiles')\n",
    "sub_info = subtitle_info.fetchall()"
   ]
  },
  {
   "cell_type": "code",
   "execution_count": 71,
   "id": "12ba33d0-e7c9-4aab-b8ef-8687492f1a82",
   "metadata": {},
   "outputs": [],
   "source": [
    "#Retrieving subtitle separately content \n",
    "content = con.execute('SELECT content from zipfiles')\n",
    "list_content = content.fetchall()"
   ]
  },
  {
   "cell_type": "code",
   "execution_count": 109,
   "id": "0daebcf6-4be8-4bdf-85c2-aa966019ce52",
   "metadata": {},
   "outputs": [],
   "source": [
    "#Closing connection since we have the data we need now\n",
    "con.close()"
   ]
  },
  {
   "cell_type": "code",
   "execution_count": 73,
   "id": "2848e43b-19a0-47c8-8a40-7c4a0dfadb22",
   "metadata": {},
   "outputs": [],
   "source": [
    "#Decompress files and dump them into the following directory\n",
    "target_directory = \"data-20240401T135418Z-001/static/\"\n",
    "\n",
    "os.makedirs(target_directory, exist_ok=True)\n",
    "\n",
    "def sanitize_file_name(file_name):\n",
    "    return ''.join(c if c.isalnum() or c in ['_', '.'] else '_' for c in file_name)\n",
    "\n",
    "for subtitle in list_content:\n",
    "    sub = io.BytesIO(subtitle[0])\n",
    "    with zipfile.ZipFile(sub, 'r') as zip_ref:\n",
    "        # Extract all files in the ZIP archive\n",
    "        for file_name in zip_ref.namelist():\n",
    "            # Remove problematic characters from the file name\n",
    "            new_file_name = file_name.replace('\\t', '_')  # Replace '\\t' with '_' or any other suitable replacement\n",
    "            new_file_name = sanitize_file_name(new_file_name)\n",
    "            # Construct the full path for the extracted file\n",
    "            extracted_file_path = os.path.join(target_directory, new_file_name)\n",
    "            # Extract the file\n",
    "            with zip_ref.open(file_name) as file_in_zip, open(extracted_file_path, 'wb') as extracted_file:\n",
    "                extracted_file.write(file_in_zip.read())"
   ]
  },
  {
   "cell_type": "code",
   "execution_count": 98,
   "id": "f129d85a-020b-43c0-9cb9-a9cd4c5c7f2a",
   "metadata": {},
   "outputs": [],
   "source": [
    "#To make a CSV file of id, name, and the file name.\n",
    "ids=[]\n",
    "name=[]\n",
    "mani_name = []\n",
    "def sanitize_file_name(file_name):\n",
    "    return ''.join(c if c.isalnum() or c in ['_', '.'] else '_' for c in file_name)\n",
    "for one_sub in sub_info:\n",
    "    sub = io.BytesIO(one_sub[2])\n",
    "    with zipfile.ZipFile(sub, 'r') as zip_ref:\n",
    "        # Extract all files in the ZIP archive\n",
    "        for file_name in zip_ref.namelist():\n",
    "            # Remove problematic characters from the file name\n",
    "            new_file_name = file_name.replace('\\t', '_')  # Replace '\\t' with '_' or any other suitable replacement\n",
    "            new_file_name = sanitize_file_name(new_file_name)\n",
    "            if '.srt' in new_file_name:\n",
    "                mani_name.append(new_file_name)\n",
    "                ids.append(one_sub[0])\n",
    "                name.append(one_sub[1])"
   ]
  },
  {
   "cell_type": "code",
   "execution_count": 104,
   "id": "2f556b45-4783-4ec1-80aa-a2c497b459cd",
   "metadata": {},
   "outputs": [
    {
     "name": "stdout",
     "output_type": "stream",
     "text": [
      "Length of list of ids: 76038\n",
      "Length of list of name: 76038\n",
      "Length of list of mani_name: 76038\n"
     ]
    }
   ],
   "source": [
    "#Checking the consistency in length of lists\n",
    "print('Length of list of ids:', len(ids))\n",
    "print('Length of list of name:', len(name))\n",
    "print('Length of list of mani_name:', len(mani_name))"
   ]
  },
  {
   "cell_type": "code",
   "execution_count": 105,
   "id": "b3c43f03-8ce2-4d7c-8c7c-4162980b24d1",
   "metadata": {},
   "outputs": [],
   "source": [
    "#Building a dataframe\n",
    "sub_dict = {'ids': ids, 'name':name, 'content_name': mani_name}\n",
    "df = pd.DataFrame(sub_dict)"
   ]
  },
  {
   "cell_type": "code",
   "execution_count": 106,
   "id": "7cb72c37-9a3e-4b1e-90f7-96844ef40c50",
   "metadata": {},
   "outputs": [
    {
     "data": {
      "text/html": [
       "<div>\n",
       "<style scoped>\n",
       "    .dataframe tbody tr th:only-of-type {\n",
       "        vertical-align: middle;\n",
       "    }\n",
       "\n",
       "    .dataframe tbody tr th {\n",
       "        vertical-align: top;\n",
       "    }\n",
       "\n",
       "    .dataframe thead th {\n",
       "        text-align: right;\n",
       "    }\n",
       "</style>\n",
       "<table border=\"1\" class=\"dataframe\">\n",
       "  <thead>\n",
       "    <tr style=\"text-align: right;\">\n",
       "      <th></th>\n",
       "      <th>ids</th>\n",
       "      <th>name</th>\n",
       "      <th>content_name</th>\n",
       "    </tr>\n",
       "  </thead>\n",
       "  <tbody>\n",
       "    <tr>\n",
       "      <th>0</th>\n",
       "      <td>9180533</td>\n",
       "      <td>the.message.(1976).eng.1cd</td>\n",
       "      <td>The.Message.1976.REMASTERED.1080p.BluRay.x264_...</td>\n",
       "    </tr>\n",
       "    <tr>\n",
       "      <th>1</th>\n",
       "      <td>9180583</td>\n",
       "      <td>here.comes.the.grump.s01.e09.joltin.jack.in.bo...</td>\n",
       "      <td>Here_Comes_the_Grump___Ep._9___Joltin__Jack_in...</td>\n",
       "    </tr>\n",
       "    <tr>\n",
       "      <th>2</th>\n",
       "      <td>9180592</td>\n",
       "      <td>yumis.cells.s02.e13.episode.2.13.(2022).eng.1cd</td>\n",
       "      <td>Yumi_s.Cells.S02E13.1080p.WEB_DL.AAC.H.264_Tae...</td>\n",
       "    </tr>\n",
       "    <tr>\n",
       "      <th>3</th>\n",
       "      <td>9180594</td>\n",
       "      <td>yumis.cells.s02.e14.episode.2.14.(2022).eng.1cd</td>\n",
       "      <td>Yumi_s.Cells.S02E14.1080p.WEB_DL.AAC.H.264_Tae...</td>\n",
       "    </tr>\n",
       "    <tr>\n",
       "      <th>4</th>\n",
       "      <td>9180600</td>\n",
       "      <td>broker.(2022).eng.1cd</td>\n",
       "      <td>Broker_2022_720p_Korean_HDRip_H265_BONE.srt</td>\n",
       "    </tr>\n",
       "  </tbody>\n",
       "</table>\n",
       "</div>"
      ],
      "text/plain": [
       "       ids                                               name  \\\n",
       "0  9180533                         the.message.(1976).eng.1cd   \n",
       "1  9180583  here.comes.the.grump.s01.e09.joltin.jack.in.bo...   \n",
       "2  9180592    yumis.cells.s02.e13.episode.2.13.(2022).eng.1cd   \n",
       "3  9180594    yumis.cells.s02.e14.episode.2.14.(2022).eng.1cd   \n",
       "4  9180600                              broker.(2022).eng.1cd   \n",
       "\n",
       "                                        content_name  \n",
       "0  The.Message.1976.REMASTERED.1080p.BluRay.x264_...  \n",
       "1  Here_Comes_the_Grump___Ep._9___Joltin__Jack_in...  \n",
       "2  Yumi_s.Cells.S02E13.1080p.WEB_DL.AAC.H.264_Tae...  \n",
       "3  Yumi_s.Cells.S02E14.1080p.WEB_DL.AAC.H.264_Tae...  \n",
       "4        Broker_2022_720p_Korean_HDRip_H265_BONE.srt  "
      ]
     },
     "execution_count": 106,
     "metadata": {},
     "output_type": "execute_result"
    }
   ],
   "source": [
    "df.head()"
   ]
  },
  {
   "cell_type": "code",
   "execution_count": 107,
   "id": "f8302d7b-085b-4399-bc79-d15897c2d512",
   "metadata": {},
   "outputs": [],
   "source": [
    "#Save as csv file\n",
    "df.to_csv('subtitle_connection.csv', index = False)"
   ]
  }
 ],
 "metadata": {
  "kernelspec": {
   "display_name": "Python 3 (ipykernel)",
   "language": "python",
   "name": "python3"
  },
  "language_info": {
   "codemirror_mode": {
    "name": "ipython",
    "version": 3
   },
   "file_extension": ".py",
   "mimetype": "text/x-python",
   "name": "python",
   "nbconvert_exporter": "python",
   "pygments_lexer": "ipython3",
   "version": "3.11.8"
  }
 },
 "nbformat": 4,
 "nbformat_minor": 5
}
